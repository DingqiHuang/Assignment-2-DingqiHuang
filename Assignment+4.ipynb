{
 "cells": [
  {
   "cell_type": "markdown",
   "metadata": {},
   "source": [
    "---\n",
    "\n",
    "_You are currently looking at **version 1.1** of this notebook. To download notebooks and datafiles, as well as get help on Jupyter notebooks in the Coursera platform, visit the [Jupyter Notebook FAQ](https://www.coursera.org/learn/python-data-analysis/resources/0dhYG) course resource._\n",
    "\n",
    "---"
   ]
  },
  {
   "cell_type": "code",
   "execution_count": 7,
   "metadata": {
    "collapsed": true
   },
   "outputs": [],
   "source": [
    "import pandas as pd\n",
    "import numpy as np\n",
    "from scipy.stats import ttest_ind"
   ]
  },
  {
   "cell_type": "markdown",
   "metadata": {},
   "source": [
    "# Assignment 4 - Hypothesis Testing\n",
    "This assignment requires more individual learning than previous assignments - you are encouraged to check out the [pandas documentation](http://pandas.pydata.org/pandas-docs/stable/) to find functions or methods you might not have used yet, or ask questions on [Stack Overflow](http://stackoverflow.com/) and tag them as pandas and python related. And of course, the discussion forums are open for interaction with your peers and the course staff.\n",
    "\n",
    "Definitions:\n",
    "* A _quarter_ is a specific three month period, Q1 is January through March, Q2 is April through June, Q3 is July through September, Q4 is October through December.\n",
    "* A _recession_ is defined as starting with two consecutive quarters of GDP decline, and ending with two consecutive quarters of GDP growth.\n",
    "* A _recession bottom_ is the quarter within a recession which had the lowest GDP.\n",
    "* A _university town_ is a city which has a high percentage of university students compared to the total population of the city.\n",
    "\n",
    "**Hypothesis**: University towns have their mean housing prices less effected by recessions. Run a t-test to compare the ratio of the mean price of houses in university towns the quarter before the recession starts compared to the recession bottom. (`price_ratio=quarter_before_recession/recession_bottom`)\n",
    "\n",
    "The following data files are available for this assignment:\n",
    "* From the [Zillow research data site](http://www.zillow.com/research/data/) there is housing data for the United States. In particular the datafile for [all homes at a city level](http://files.zillowstatic.com/research/public/City/City_Zhvi_AllHomes.csv), ```City_Zhvi_AllHomes.csv```, has median home sale prices at a fine grained level.\n",
    "* From the Wikipedia page on college towns is a list of [university towns in the United States](https://en.wikipedia.org/wiki/List_of_college_towns#College_towns_in_the_United_States) which has been copy and pasted into the file ```university_towns.txt```.\n",
    "* From Bureau of Economic Analysis, US Department of Commerce, the [GDP over time](http://www.bea.gov/national/index.htm#gdp) of the United States in current dollars (use the chained value in 2009 dollars), in quarterly intervals, in the file ```gdplev.xls```. For this assignment, only look at GDP data from the first quarter of 2000 onward.\n",
    "\n",
    "Each function in this assignment below is worth 10%, with the exception of ```run_ttest()```, which is worth 50%."
   ]
  },
  {
   "cell_type": "code",
   "execution_count": 8,
   "metadata": {
    "collapsed": true
   },
   "outputs": [],
   "source": [
    "# Use this dictionary to map state names to two letter acronyms\n",
    "states = {'OH': 'Ohio', 'KY': 'Kentucky', 'AS': 'American Samoa', 'NV': 'Nevada', 'WY': 'Wyoming', 'NA': 'National', 'AL': 'Alabama', 'MD': 'Maryland', 'AK': 'Alaska', 'UT': 'Utah', 'OR': 'Oregon', 'MT': 'Montana', 'IL': 'Illinois', 'TN': 'Tennessee', 'DC': 'District of Columbia', 'VT': 'Vermont', 'ID': 'Idaho', 'AR': 'Arkansas', 'ME': 'Maine', 'WA': 'Washington', 'HI': 'Hawaii', 'WI': 'Wisconsin', 'MI': 'Michigan', 'IN': 'Indiana', 'NJ': 'New Jersey', 'AZ': 'Arizona', 'GU': 'Guam', 'MS': 'Mississippi', 'PR': 'Puerto Rico', 'NC': 'North Carolina', 'TX': 'Texas', 'SD': 'South Dakota', 'MP': 'Northern Mariana Islands', 'IA': 'Iowa', 'MO': 'Missouri', 'CT': 'Connecticut', 'WV': 'West Virginia', 'SC': 'South Carolina', 'LA': 'Louisiana', 'KS': 'Kansas', 'NY': 'New York', 'NE': 'Nebraska', 'OK': 'Oklahoma', 'FL': 'Florida', 'CA': 'California', 'CO': 'Colorado', 'PA': 'Pennsylvania', 'DE': 'Delaware', 'NM': 'New Mexico', 'RI': 'Rhode Island', 'MN': 'Minnesota', 'VI': 'Virgin Islands', 'NH': 'New Hampshire', 'MA': 'Massachusetts', 'GA': 'Georgia', 'ND': 'North Dakota', 'VA': 'Virginia'}"
   ]
  },
  {
   "cell_type": "code",
   "execution_count": 9,
   "metadata": {
    "umich_part_id": "021",
    "umich_partlist_id": "004"
   },
   "outputs": [
    {
     "data": {
      "text/html": [
       "<div>\n",
       "<table border=\"1\" class=\"dataframe\">\n",
       "  <thead>\n",
       "    <tr style=\"text-align: right;\">\n",
       "      <th></th>\n",
       "      <th>State</th>\n",
       "      <th>RegionName</th>\n",
       "    </tr>\n",
       "  </thead>\n",
       "  <tbody>\n",
       "    <tr>\n",
       "      <th>0</th>\n",
       "      <td>Alabama</td>\n",
       "      <td>Auburn</td>\n",
       "    </tr>\n",
       "    <tr>\n",
       "      <th>1</th>\n",
       "      <td>Alabama</td>\n",
       "      <td>Florence</td>\n",
       "    </tr>\n",
       "    <tr>\n",
       "      <th>2</th>\n",
       "      <td>Alabama</td>\n",
       "      <td>Jacksonville</td>\n",
       "    </tr>\n",
       "    <tr>\n",
       "      <th>3</th>\n",
       "      <td>Alabama</td>\n",
       "      <td>Livingston</td>\n",
       "    </tr>\n",
       "    <tr>\n",
       "      <th>4</th>\n",
       "      <td>Alabama</td>\n",
       "      <td>Montevallo</td>\n",
       "    </tr>\n",
       "  </tbody>\n",
       "</table>\n",
       "</div>"
      ],
      "text/plain": [
       "     State    RegionName\n",
       "0  Alabama        Auburn\n",
       "1  Alabama      Florence\n",
       "2  Alabama  Jacksonville\n",
       "3  Alabama    Livingston\n",
       "4  Alabama    Montevallo"
      ]
     },
     "execution_count": 9,
     "metadata": {},
     "output_type": "execute_result"
    }
   ],
   "source": [
    "def get_list_of_university_towns():\n",
    "    '''Returns a DataFrame of towns and the states they are in from the \n",
    "    university_towns.txt list. The format of the DataFrame should be:\n",
    "    DataFrame( [ [\"Michigan\", \"Ann Arbor\"], [\"Michigan\", \"Yipsilanti\"] ], \n",
    "    columns=[\"State\", \"RegionName\"]  )\n",
    "    \n",
    "    The following cleaning needs to be done:\n",
    "\n",
    "    1. For \"State\", removing characters from \"[\" to the end.\n",
    "    2. For \"RegionName\", when applicable, removing every character from \" (\" to the end.\n",
    "    3. Depending on how you read the data, you may need to remove newline character '\\n'. '''\n",
    "    df = pd.read_csv('university_towns.txt',sep='\\n',error_bad_lines=False,names='A').rename(columns={'A':'RegionName'})\n",
    "    df['RegionName']=df['RegionName'].str.replace(r' \\(.*','')\n",
    "    df['State'] = df['RegionName'].where(df['RegionName'].str.contains('[', regex=False)).fillna(method='ffill').str.replace(r'\\[.*\\]','')\n",
    "    df=df.where(~df['RegionName'].str.contains('edit')).dropna()\n",
    "    #df=df.sort(['State','RegionName'])\n",
    "    df=df[['State','RegionName']].reset_index(drop=True)\n",
    "    return df\n",
    "get_list_of_university_towns().head()"
   ]
  },
  {
   "cell_type": "code",
   "execution_count": 10,
   "metadata": {
    "umich_part_id": "022",
    "umich_partlist_id": "004"
   },
   "outputs": [
    {
     "data": {
      "text/plain": [
       "'2008q3'"
      ]
     },
     "execution_count": 10,
     "metadata": {},
     "output_type": "execute_result"
    }
   ],
   "source": [
    "def get_recession_start():\n",
    "    '''Returns the year and quarter of the recession start time as a \n",
    "    string value in a format such as 2005q3'''\n",
    "    df=pd.read_excel('gdplev.xls',header=5,usecols=[3,5],\n",
    "                     names=['Quarter','GDP']).dropna().reset_index(drop=True).iloc[212:].reset_index(drop=True)              \n",
    "    df['Diff']=df['GDP'].diff()\n",
    "    df['Decline']=(df['GDP'].diff()<0)\n",
    "    two_decline = []\n",
    "    for j in range(1,len(df)-1):\n",
    "        if df['Decline'][j]==True and df['Decline'][j+1]==1:\n",
    "            two_decline.append(df['Quarter'][j])\n",
    "            \n",
    "    return two_decline[0]\n",
    "get_recession_start()"
   ]
  },
  {
   "cell_type": "code",
   "execution_count": 11,
   "metadata": {
    "umich_part_id": "023",
    "umich_partlist_id": "004"
   },
   "outputs": [
    {
     "data": {
      "text/plain": [
       "'2009q4'"
      ]
     },
     "execution_count": 11,
     "metadata": {},
     "output_type": "execute_result"
    }
   ],
   "source": [
    "def get_recession_end():\n",
    "    '''Returns the year and quarter of the recession end time as a \n",
    "    string value in a format such as 2005q3'''\n",
    "    df=pd.read_excel('gdplev.xls',header=5,usecols=[3,5],\n",
    "                 names=['Quarter','GDP']).dropna().reset_index(drop=True).iloc[212:].reset_index(drop=True)              \n",
    "    df['Diff']=df['GDP'].diff()\n",
    "    df['Rise']=(df['GDP'].diff()>0)\n",
    "    df['Decline']=(df['GDP'].diff()<0)\n",
    "    two_decline = []\n",
    "    two_rise = []\n",
    "    for j in range(1,len(df)-1):\n",
    "        if df['Decline'][j]==True and df['Decline'][j-1]==1:\n",
    "            two_decline.append(df['Quarter'][j])\n",
    "            for i in range(j,len(df)-1):\n",
    "                if df['Rise'][i]==True and df['Rise'][i-1]==1:\n",
    "                    two_rise.append(df['Quarter'][i])\n",
    "    return two_rise[0] \n",
    "get_recession_end()"
   ]
  },
  {
   "cell_type": "code",
   "execution_count": 13,
   "metadata": {
    "umich_part_id": "024",
    "umich_partlist_id": "004"
   },
   "outputs": [
    {
     "data": {
      "text/plain": [
       "'2009q2'"
      ]
     },
     "execution_count": 13,
     "metadata": {},
     "output_type": "execute_result"
    }
   ],
   "source": [
    "def get_recession_bottom():\n",
    "    '''Returns the year and quarter of the recession bottom time as a \n",
    "    string value in a format such as 2005q3'''\n",
    "    \n",
    "    df=pd.read_excel('gdplev.xls',header=5,usecols=[3,5],\n",
    "                     names=['Quarter','GDP']).dropna().reset_index(drop=True).iloc[212:].reset_index(drop=True)              \n",
    "    df['Diff']=df['GDP'].diff()\n",
    "    df['Rise']=(df['GDP'].diff()>0)\n",
    "    df['Decline']=(df['GDP'].diff()<0)\n",
    "    two_decline = []\n",
    "    two_rise = []\n",
    "    bottom = []\n",
    "    recession=[]\n",
    "    for j in range(1,len(df)-1):\n",
    "        if df['Decline'][j]==True and df['Decline'][j-1]==True:\n",
    "            two_decline.append(df['Quarter'][j])\n",
    "            for i in range(j,len(df)-1):\n",
    "                if df['Rise'][i]==True and df['Rise'][i-1]==True:\n",
    "                    two_rise.append(df['Quarter'][i])\n",
    "                    k=df['GDP'][j:i].argmin()\n",
    "                    bottom.append(df['Quarter'][k])\n",
    "                    recession.append([df['Quarter'][j],df['Quarter'][i],df['Quarter'][k],df['GDP'][j:i].min()])         \n",
    "    return bottom[0]\n",
    "get_recession_bottom()"
   ]
  },
  {
   "cell_type": "code",
   "execution_count": 14,
   "metadata": {
    "collapsed": true,
    "umich_part_id": "025",
    "umich_partlist_id": "004"
   },
   "outputs": [],
   "source": [
    "def convert_housing_data_to_quarters():\n",
    "    '''Converts the housing data to quarters and returns it as mean \n",
    "    values in a dataframe. This dataframe should be a dataframe with\n",
    "    columns for 2000q1 through 2016q3, and should have a multi-index\n",
    "    in the shape of [\"State\",\"RegionName\"].\n",
    "    \n",
    "    Note: Quarters are defined in the assignment description, they are\n",
    "    not arbitrary three month periods.\n",
    "    \n",
    "    The resulting dataframe should have 67 columns, and 10,730 rows.\n",
    "    '''\n",
    "    zillow = pd.read_csv('City_Zhvi_AllHomes.csv')\n",
    "    zillow['State'] = zillow['State'].map(states)\n",
    "    zillow.set_index(['State','RegionName'], inplace=True)\n",
    "    zillow = zillow[zillow.columns[49:]]\n",
    "    zillow.columns = zillow.columns.astype('datetime64[ns]')\n",
    "    housing = zillow.groupby(pd.PeriodIndex(zillow.columns, freq='Q'), axis=1).mean()\n",
    "    housing.columns = housing.columns.to_series().astype(str)\n",
    "    housing.columns = map(str.lower, housing.columns)\n",
    "    return housing"
   ]
  },
  {
   "cell_type": "code",
   "execution_count": 15,
   "metadata": {
    "umich_part_id": "026",
    "umich_partlist_id": "004"
   },
   "outputs": [
    {
     "data": {
      "text/plain": [
       "(True, 0.0027240637047531249, 'university town')"
      ]
     },
     "execution_count": 15,
     "metadata": {},
     "output_type": "execute_result"
    }
   ],
   "source": [
    "def run_ttest():\n",
    "    '''First creates new data showing the decline or growth of housing prices\n",
    "    between the recession start and the recession bottom. Then runs a ttest\n",
    "    comparing the university town values to the non-university towns values, \n",
    "    return whether the alternative hypothesis (that the two groups are the same)\n",
    "    is true or not as well as the p-value of the confidence. \n",
    "    \n",
    "    Return the tuple (different, p, better) where different=True if the t-test is\n",
    "    True at a p<0.01 (we reject the null hypothesis), or different=False if \n",
    "    otherwise (we cannot reject the null hypothesis). The variable p should\n",
    "    be equal to the exact p value returned from scipy.stats.ttest_ind(). The\n",
    "    value for better should be either \"university town\" or \"non-university town\"\n",
    "    depending on which has a lower mean price ratio (which is equivilent to a\n",
    "    reduced market loss).'''\n",
    "    \n",
    "    univ=get_list_of_university_towns()\n",
    "    univ=univ.set_index(['State','RegionName'])\n",
    "\n",
    "    univ=convert_housing_data_to_quarters()[convert_housing_data_to_quarters().index.isin(univ.index.tolist())]\n",
    "    #univ['change']=(univ['2008q3'] - univ['2009q2'])/univ['2008q3']\n",
    "    univ['change']=univ['2008q2'] /univ['2009q2']\n",
    "    nonuniv=convert_housing_data_to_quarters()[~convert_housing_data_to_quarters().index.isin(univ.index.tolist())]\n",
    "    #nonuniv['change']=(nonuniv['2008q3'] - nonuniv['2009q2'])/nonuniv['2008q3']\n",
    "    nonuniv['change']=nonuniv['2008q2']/nonuniv['2009q2']\n",
    "\n",
    "    univ_price=univ['change']\n",
    "    nonuniv_price=nonuniv['change']\n",
    "\n",
    "    if nonuniv_price.mean() < univ_price.mean():\n",
    "        better = 'non-university town'\n",
    "    else:\n",
    "        better = 'university town'\n",
    "    p_val = list(ttest_ind(nonuniv_price, univ_price,nan_policy='omit'))[1]\n",
    "    if p_val<0.01:\n",
    "        diff=True\n",
    "    else:\n",
    "        diff=False\n",
    "    #print(len(nonuniv_price),len(univ_price),nonuniv_price.mean(),univ_price.mean())\n",
    "    \n",
    "    result = (diff,p_val,better)\n",
    "    \n",
    "    return result\n",
    "run_ttest()"
   ]
  },
  {
   "cell_type": "code",
   "execution_count": null,
   "metadata": {
    "collapsed": true
   },
   "outputs": [],
   "source": []
  }
 ],
 "metadata": {
  "coursera": {
   "course_slug": "python-data-analysis",
   "graded_item_id": "Il9Fx",
   "launcher_item_id": "TeDW0",
   "part_id": "WGlun"
  },
  "kernelspec": {
   "display_name": "Python 3",
   "language": "python",
   "name": "python3"
  },
  "language_info": {
   "codemirror_mode": {
    "name": "ipython",
    "version": 3
   },
   "file_extension": ".py",
   "mimetype": "text/x-python",
   "name": "python",
   "nbconvert_exporter": "python",
   "pygments_lexer": "ipython3",
   "version": "3.6.0"
  },
  "umich": {
   "id": "Assignment 4",
   "version": "1.1"
  }
 },
 "nbformat": 4,
 "nbformat_minor": 1
}
